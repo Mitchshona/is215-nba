{
 "cells": [
  {
   "cell_type": "code",
   "execution_count": 171,
   "metadata": {},
   "outputs": [],
   "source": [
    "import pandas as pd\n",
    "\n",
    "pd.set_option(\"display.max_columns\", None)\n",
    "import matplotlib.pyplot as plt\n",
    "import seaborn as sns\n",
    "import numpy as np\n",
    "import warnings\n",
    "from datetime import datetime\n",
    "\n",
    "warnings.filterwarnings(\"ignore\")\n",
    "warnings.filterwarnings(\"ignore\", category=FutureWarning, module=\"pandas.*\")\n",
    "%matplotlib inline"
   ]
  },
  {
   "cell_type": "code",
   "execution_count": 172,
   "metadata": {},
   "outputs": [
    {
     "name": "stdout",
     "output_type": "stream",
     "text": []
    }
   ],
   "source": [
    "nba_df = pd.read_csv('nba_stats_22-23.csv')\n",
    "nba_df = nba_df.rename(columns={\"Unnamed: 0\": \"ID\"})\n",
    "nba_df.columns = [col.replace(\" \", \"\") for col in nba_df.columns]\n",
    "nba_df"
   ]
  },
  {
   "cell_type": "code",
   "execution_count": 173,
   "metadata": {},
   "outputs": [
    {
     "name": "stdout",
     "output_type": "stream",
     "text": []
    }
   ],
   "source": [
    "nba_df2 = pd.read_csv('nba_stats_23-24.csv')\n",
    "nba_df2 = nba_df2[[\"Age\",\n",
    "    \"GP\",\n",
    "    \"TRB\",\n",
    "    \"AST\",\n",
    "    \"PTS\",\n",
    "    \"BLK\",\n",
    "    \"TS%\",\n",
    "    \"Salary\"\n",
    "    ]]\n",
    "\n",
    "nba_df2 = nba_df2[nba_df2['GP'] >= 20]\n",
    "nba_df2 = nba_df2.dropna(subset=['Salary'])\n",
    "# Also drop rows where SALARY is 0.0\n",
    "nba_df2 = nba_df2[nba_df2['Salary'] > 0.0]\n",
    "\n",
    "total_missing = nba_df2.isnull().sum().sort_values(ascending=False)\n",
    "percent_missing = (nba_df2.isnull().sum() / nba_df.isnull().count()).sort_values(ascending=False)\n",
    "\n",
    "missing_data_df = pd.concat([total_missing, percent_missing], axis=1, keys=[\"Total Missing\", \"Percent Missing\"])\n",
    "missing_data_df.head(8)\n",
    "nba_df2"
   ]
  },
  {
   "cell_type": "code",
   "execution_count": 174,
   "metadata": {},
   "outputs": [
    {
     "name": "stdout",
     "output_type": "stream",
     "text": []
    }
   ],
   "source": [
    "nba_df.columns"
   ]
  },
  {
   "cell_type": "code",
   "execution_count": 175,
   "metadata": {},
   "outputs": [
    {
     "name": "stdout",
     "output_type": "stream",
     "text": []
    }
   ],
   "source": [
    "total_missing = nba_df.isnull().sum().sort_values(ascending=False)\n",
    "percent_missing = (nba_df.isnull().sum() / nba_df.isnull().count()).sort_values(ascending=False)\n",
    "\n",
    "missing_data_df = pd.concat([total_missing, percent_missing], axis=1, keys=[\"Total Missing\", \"Percent Missing\"])\n",
    "missing_data_df.head(8)"
   ]
  },
  {
   "cell_type": "code",
   "execution_count": 176,
   "metadata": {},
   "outputs": [],
   "source": [
    "cols_to_fill_zero = [\n",
    "    \"FT%\",\n",
    "    \"3P%\",\n",
    "    \"2P%\",\n",
    "    \"TS%\",\n",
    "    \"3PAr\",\n",
    "    \"FTr\",\n",
    "    \"eFG%\",\n",
    "    \"FG%\",\n",
    "]\n",
    "\n",
    "for col in cols_to_fill_zero:\n",
    "    nba_df[col] = nba_df[col].fillna(0)"
   ]
  },
  {
   "cell_type": "code",
   "execution_count": 177,
   "metadata": {},
   "outputs": [
    {
     "name": "stdout",
     "output_type": "stream",
     "text": []
    }
   ],
   "source": [
    "fig, ax = plt.subplots()\n",
    "ax.scatter(x=nba_df[\"GP\"], y=nba_df[\"Salary\"])\n",
    "plt.ylabel(\"Salary\", fontsize=13)\n",
    "plt.xlabel(\"GP (Games Played)\", fontsize=13)\n",
    "plt.show()"
   ]
  },
  {
   "cell_type": "code",
   "execution_count": 178,
   "metadata": {},
   "outputs": [],
   "source": [
    "nba_df = nba_df[nba_df['GP'] >= 20]\n"
   ]
  },
  {
   "cell_type": "code",
   "execution_count": 179,
   "metadata": {},
   "outputs": [
    {
     "name": "stdout",
     "output_type": "stream",
     "text": []
    }
   ],
   "source": [
    "# scatterplot\n",
    "cols = [\n",
    "    \"Salary\",\n",
    "    \"Age\",\n",
    "    \"MP\",\n",
    "    \"3P\",\n",
    "    \"TRB\",\n",
    "    \"AST\",\n",
    "    \"PTS\",\n",
    "    \"PER\",\n",
    "    \"TS%\",\n",
    "    \"DWS\",\n",
    "    \"VORP\"\n",
    "]\n",
    "sns.pairplot(nba_df[cols], size=2.5)\n",
    "plt.show();"
   ]
  },
  {
   "cell_type": "code",
   "execution_count": 180,
   "metadata": {},
   "outputs": [],
   "source": [
    "from sklearn.linear_model import LinearRegression\n",
    "from sklearn.model_selection import train_test_split"
   ]
  },
  {
   "cell_type": "code",
   "execution_count": 181,
   "metadata": {},
   "outputs": [],
   "source": [
    "X = nba_df[[\"Age\",\n",
    "    \"MP\",\n",
    "    \"3P\",\n",
    "    \"TRB\",\n",
    "    \"AST\",\n",
    "    \"PTS\",\n",
    "    \"PER\",\n",
    "    \"TS%\",\n",
    "    \"DWS\",\n",
    "    \"VORP\"]]\n",
    "y = nba_df[\"Salary\"]\n",
    "    "
   ]
  },
  {
   "cell_type": "code",
   "execution_count": 182,
   "metadata": {},
   "outputs": [],
   "source": [
    "X_train, X_test, y_train, y_test = train_test_split(X, y,\n",
    "                                                    test_size = 0.25,\n",
    "                                                    random_state = 512)"
   ]
  },
  {
   "cell_type": "code",
   "execution_count": 183,
   "metadata": {},
   "outputs": [
    {
     "name": "stdout",
     "output_type": "stream",
     "text": []
    }
   ],
   "source": [
    "lm = LinearRegression()\n",
    "lm.fit(X_train,y_train)"
   ]
  },
  {
   "cell_type": "code",
   "execution_count": 184,
   "metadata": {},
   "outputs": [
    {
     "name": "stdout",
     "output_type": "stream",
     "text": []
    }
   ],
   "source": [
    "lm.score(X_train, y_train)"
   ]
  },
  {
   "cell_type": "code",
   "execution_count": 185,
   "metadata": {},
   "outputs": [],
   "source": [
    "import statsmodels.api as sm"
   ]
  },
  {
   "cell_type": "code",
   "execution_count": 186,
   "metadata": {},
   "outputs": [
    {
     "name": "stdout",
     "output_type": "stream",
     "text": []
    }
   ],
   "source": [
    "# You may also simply add a column using code below to create the DataFrame with a constant\n",
    "X_train['const'] = 1\n",
    "X_train.head()"
   ]
  },
  {
   "cell_type": "code",
   "execution_count": 187,
   "metadata": {},
   "outputs": [],
   "source": [
    "# Fit a model using OLS \n",
    "model = sm.OLS(y_train, X_train)\n",
    "model_results = model.fit()"
   ]
  },
  {
   "cell_type": "code",
   "execution_count": 188,
   "metadata": {},
   "outputs": [
    {
     "name": "stdout",
     "output_type": "stream",
     "text": []
    }
   ],
   "source": [
    "# Return the summary tables of the regression results\n",
    "model_results.summary2()"
   ]
  },
  {
   "cell_type": "code",
   "execution_count": 189,
   "metadata": {},
   "outputs": [
    {
     "name": "stdout",
     "output_type": "stream",
     "text": []
    }
   ],
   "source": [
    "def adjust_salary(salary, years):\n",
    "    \"\"\"\n",
    "    Adjusts the player's salary based on their income.\n",
    "    - Superstars (> $15M) get 9% annual growth.\n",
    "    - Role players (≤ $15M) get 25% annual growth.\n",
    "\n",
    "    Returns:\n",
    "    - float: Adjusted salary.\n",
    "    \"\"\"\n",
    "    if salary > 15_000_000:\n",
    "        annual_growth_rate = 0.05  # Superstars\n",
    "    else:\n",
    "        annual_growth_rate = 0.15  # Role players\n",
    "\n",
    "    adjusted_salary = salary * ((1 + annual_growth_rate) ** years)\n",
    "    return round(adjusted_salary, 2)\n",
    "\n",
    "years_forward = 2\n",
    "\n",
    "nba_df[\"Salary\"] = nba_df[\"Salary\"].apply(lambda x: adjust_salary(x, years_forward))\n",
    "\n",
    "years_forward = 1\n",
    "\n",
    "nba_df2[\"Salary\"] = nba_df2[\"Salary\"].apply(lambda x: adjust_salary(x, years_forward))\n",
    "\n",
    "combined_data = pd.concat([nba_df[[\"Age\", \"GP\", \"TRB\", \"AST\", \"PTS\", \"BLK\", \"TS%\", \"Salary\"]], nba_df2], axis=0)\n",
    "\n",
    "X2 = combined_data[[\"Age\",\n",
    "    \"GP\",\n",
    "    \"TRB\",\n",
    "    \"AST\",\n",
    "    \"PTS\",\n",
    "    \"BLK\",\n",
    "    \"TS%\",\n",
    "    ]]\n",
    "\n",
    "y = combined_data[\"Salary\"]\n",
    "\n",
    "combined_data"
   ]
  },
  {
   "cell_type": "code",
   "execution_count": 190,
   "metadata": {},
   "outputs": [],
   "source": [
    "X2_train, X2_test, y_train, y_test = train_test_split(X2, y,\n",
    "                                                    test_size = 0.25,\n",
    "                                                    random_state = 512)"
   ]
  },
  {
   "cell_type": "code",
   "execution_count": 191,
   "metadata": {},
   "outputs": [
    {
     "name": "stdout",
     "output_type": "stream",
     "text": []
    }
   ],
   "source": [
    "lm2 = LinearRegression()\n",
    "lm2.fit(X2_train,y_train)"
   ]
  },
  {
   "cell_type": "code",
   "execution_count": 192,
   "metadata": {},
   "outputs": [
    {
     "name": "stdout",
     "output_type": "stream",
     "text": []
    }
   ],
   "source": [
    "lm2.score(X2_train, y_train)"
   ]
  },
  {
   "cell_type": "code",
   "execution_count": 193,
   "metadata": {},
   "outputs": [
    {
     "name": "stdout",
     "output_type": "stream",
     "text": []
    }
   ],
   "source": [
    "X2_train['const'] = 1\n",
    "X2_train.head()"
   ]
  },
  {
   "cell_type": "code",
   "execution_count": 194,
   "metadata": {},
   "outputs": [
    {
     "name": "stdout",
     "output_type": "stream",
     "text": []
    }
   ],
   "source": [
    "model = sm.OLS(y_train, X2_train)\n",
    "model_results = model.fit()\n",
    "model_results.summary2()"
   ]
  },
  {
   "cell_type": "code",
   "execution_count": 195,
   "metadata": {},
   "outputs": [
    {
     "name": "stdout",
     "output_type": "stream",
     "text": []
    }
   ],
   "source": [
    "y_model_pred = lm2.predict(X2_train.iloc[:, 0:7]) # Use X_train2 which is before standardization\n",
    "y_model_pred"
   ]
  },
  {
   "cell_type": "code",
   "execution_count": 196,
   "metadata": {},
   "outputs": [
    {
     "name": "stdout",
     "output_type": "stream",
     "text": []
    }
   ],
   "source": [
    "results = pd.DataFrame({'Actual': y_train, 'Predicted': y_model_pred})\n",
    "results['residuals'] = results['Actual'] - results['Predicted']\n",
    "results.head()"
   ]
  },
  {
   "cell_type": "code",
   "execution_count": 197,
   "metadata": {},
   "outputs": [
    {
     "name": "stdout",
     "output_type": "stream",
     "text": []
    }
   ],
   "source": [
    "# Plot scatter plot of the residuals\n",
    "plt.scatter(results['Predicted'], results['residuals'],  color='blue')"
   ]
  },
  {
   "cell_type": "code",
   "execution_count": 198,
   "metadata": {},
   "outputs": [
    {
     "name": "stdout",
     "output_type": "stream",
     "text": []
    }
   ],
   "source": [
    "# Plot histogram of the errors (residuals)\n",
    "plt.hist(results['residuals'], bins=20)"
   ]
  },
  {
   "cell_type": "code",
   "execution_count": 199,
   "metadata": {},
   "outputs": [
    {
     "name": "stdout",
     "output_type": "stream",
     "text": []
    }
   ],
   "source": [
    "# Use statistical test such as K-S test to test for normality\n",
    "\n",
    "from scipy import stats\n",
    "from scipy.stats import norm, kstest\n",
    "\n",
    "np.random.seed(500)\n",
    "\n",
    "# Null hypothesis: distributions are the same\n",
    "# Alternative hypothesis: distributions are NOT the same\n",
    "\n",
    "# getting the loc (mean) and scale (std dev) for residuals\n",
    "loc, scale = norm.fit(results['residuals'])\n",
    "\n",
    "# create a normal distribution with loc and scale\n",
    "n = norm(loc=loc, scale=scale)\n",
    "\n",
    "# perform the KS-test using residuals compared to a normal distribution in the correct scale\n",
    "stat, p = stats.kstest(results['residuals'], n.cdf)\n",
    "\n",
    "# print p-value: if p-value is <0.05 (5% significance), then reject null hypothesis \n",
    "print('Residuals: Statistics=%.3f, p=%.9f' % (stat, p))"
   ]
  },
  {
   "cell_type": "code",
   "execution_count": 200,
   "metadata": {},
   "outputs": [],
   "source": [
    "from statsmodels.stats.outliers_influence import variance_inflation_factor as vif"
   ]
  },
  {
   "cell_type": "code",
   "execution_count": 201,
   "metadata": {},
   "outputs": [
    {
     "name": "stdout",
     "output_type": "stream",
     "text": []
    }
   ],
   "source": [
    "for i in range(0,7):\n",
    "    v = vif(X2_train.values, i)\n",
    "    print(\"VIF for {}:{}\".format(X2_train.columns[i], round(v, 4)))"
   ]
  },
  {
   "cell_type": "code",
   "execution_count": 202,
   "metadata": {},
   "outputs": [
    {
     "name": "stdout",
     "output_type": "stream",
     "text": []
    },
    {
     "name": "stdout",
     "output_type": "stream",
     "text": []
    }
   ],
   "source": [
    "import seaborn as sns\n",
    "import matplotlib.pyplot as plt\n",
    "\n",
    "plt.figure(figsize=(8,6))\n",
    "sns.heatmap(X2_train.corr(), annot=True, cmap=\"coolwarm\", fmt=\".2f\")\n",
    "plt.show()\n"
   ]
  },
  {
   "cell_type": "code",
   "execution_count": 203,
   "metadata": {},
   "outputs": [
    {
     "name": "stdout",
     "output_type": "stream",
     "text": []
    }
   ],
   "source": [
    "# Using joblib (recommended)\n",
    "from joblib import dump, load\n",
    "\n",
    "# Save the model\n",
    "dump(lm2, 'linear_regression_model.joblib')"
   ]
  },
  {
   "cell_type": "code",
   "execution_count": null,
   "metadata": {},
   "outputs": [],
   "source": []
  }
 ],
 "metadata": {
  "kernelspec": {
   "display_name": "base",
   "language": "python",
   "name": "python3"
  },
  "language_info": {
   "codemirror_mode": {
    "name": "ipython",
    "version": 3
   },
   "file_extension": ".py",
   "mimetype": "text/x-python",
   "name": "python",
   "nbconvert_exporter": "python",
   "pygments_lexer": "ipython3",
   "version": "3.12.2"
  }
 },
 "nbformat": 4,
 "nbformat_minor": 4
}
